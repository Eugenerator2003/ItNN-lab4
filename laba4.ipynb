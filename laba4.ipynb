{
 "cells": [
  {
   "cell_type": "code",
   "execution_count": 1,
   "metadata": {},
   "outputs": [],
   "source": [
    "import matplotlib.pyplot as plt\n",
    "import neuralnet as nn\n",
    "import numpy as np\n",
    "from PIL import Image, ImageOps"
   ]
  },
  {
   "cell_type": "code",
   "execution_count": 2,
   "metadata": {},
   "outputs": [],
   "source": [
    "pathes =['forks', 'knifes', 'spoons']\n",
    "marks = [[0, 0], [1, 1], [1, 0]]\n",
    "\n",
    "x_train_full, x_test_full, y_train, y_test = nn.get_images_train_test(pathes, marks, invert=True)"
   ]
  },
  {
   "cell_type": "code",
   "execution_count": 3,
   "metadata": {},
   "outputs": [],
   "source": [
    "def resize(x_arr, size):\n",
    "    x_out = []\n",
    "    for i in range(len(x_arr)):\n",
    "        x_out.append(np.asarray(x_arr[i].resize(size)))\n",
    "        if i + 1 == len(x_arr):\n",
    "            break\n",
    "    return x_out"
   ]
  },
  {
   "cell_type": "code",
   "execution_count": 4,
   "metadata": {},
   "outputs": [],
   "source": [
    "size = (24, 24)\n",
    "\n",
    "x_train_full = resize(x_train_full, size)\n",
    "x_test_full = resize(x_test_full, size)"
   ]
  },
  {
   "cell_type": "code",
   "execution_count": 17,
   "metadata": {},
   "outputs": [],
   "source": [
    "x_train = x_train_full.copy()\n",
    "x_test = x_test_full.copy()"
   ]
  },
  {
   "cell_type": "code",
   "execution_count": 15,
   "metadata": {},
   "outputs": [],
   "source": [
    "def show(x, y):\n",
    "    plt.figure(figsize=(15, 21))\n",
    "    for i in range(8):\n",
    "        plt.subplot(6, 4, 1 + i)\n",
    "        plt.imshow(ImageOps.invert(Image.fromarray(x[i])))\n",
    "        index = marks.index(y[i])\n",
    "        plt.title(pathes[index][:len(pathes[index]) - 1])"
   ]
  },
  {
   "cell_type": "code",
   "execution_count": null,
   "metadata": {},
   "outputs": [],
   "source": [
    "show(x_train_full, y_train)"
   ]
  },
  {
   "cell_type": "code",
   "execution_count": 6,
   "metadata": {},
   "outputs": [],
   "source": [
    "def transform(x : np.array):\n",
    "    round = lambda value : 1 if value > 0 else 0\n",
    "    for i in range(len(x)):\n",
    "        for j in range(0, len(x[i]), 3):\n",
    "            x[i][j] = round(x[i][j])\n",
    "            x[i][j + 1] = round(x[i][j + 1])\n",
    "            x[i][j + 2] = round(x[i][j + 2])\n",
    "    return x"
   ]
  },
  {
   "cell_type": "code",
   "execution_count": 7,
   "metadata": {},
   "outputs": [],
   "source": [
    "x_train = np.array([x_train[i].reshape([-1]) for i in range(len(x_train))])\n",
    "x_test = np.array([x_test[i].reshape([-1]) for i in range(len(x_test))])\n",
    "\n",
    "x_train = transform(x_train)\n",
    "x_test = transform(x_test)"
   ]
  },
  {
   "cell_type": "code",
   "execution_count": 8,
   "metadata": {},
   "outputs": [],
   "source": [
    "arch = [128, 64, 2]"
   ]
  },
  {
   "cell_type": "code",
   "execution_count": 9,
   "metadata": {},
   "outputs": [],
   "source": [
    "elman = nn.ElmanNet(len(x_train[0]), arch)\n",
    "elman.train_speed_decrease_func = nn.train_speed_dont_decrease_func\n",
    "elman.train_size_epoch = 1 / len(x_train)"
   ]
  },
  {
   "cell_type": "code",
   "execution_count": 10,
   "metadata": {},
   "outputs": [
    {
     "name": "stdout",
     "output_type": "stream",
     "text": [
      "epoch 1 has started, error = 0.6619096745147122, hitrate = 0.0, aim = [0 0]\n",
      "epoch 2 has started, error = 0.01670346992097245, hitrate = 1.0, aim = [0 0]\n",
      "epoch 3 has started, error = 0.013710087524791244, hitrate = 1.0, aim = [0 0]\n",
      "epoch 4 has started, error = 1.43060220664163, hitrate = 0.0, aim = [1 1]\n",
      "epoch 5 has started, error = 0.17724711744638788, hitrate = 1.0, aim = [0 0]\n",
      "epoch 6 has started, error = 0.02660845185726425, hitrate = 1.0, aim = [0 0]\n",
      "epoch 7 has started, error = 0.45537540437193946, hitrate = 0.0, aim = [1 0]\n",
      "epoch 8 has started, error = 0.02692041054538031, hitrate = 1.0, aim = [1 0]\n",
      "epoch 9 has started, error = 0.7286687287451291, hitrate = 0.0, aim = [1 1]\n",
      "epoch 10 has started, error = 0.385596986695665, hitrate = 0.0, aim = [0 0]\n",
      "epoch 11 has started, error = 0.5554451414411845, hitrate = 0.0, aim = [1 1]\n",
      "epoch 12 has started, error = 0.24093078231046605, hitrate = 1.0, aim = [0 0]\n",
      "epoch 13 has started, error = 0.029785521176855706, hitrate = 1.0, aim = [0 0]\n",
      "epoch 14 has started, error = 0.019610142323663843, hitrate = 1.0, aim = [0 0]\n",
      "epoch 15 has started, error = 0.013559425070165415, hitrate = 1.0, aim = [0 0]\n",
      "epoch 16 has started, error = 0.579262300028405, hitrate = 0.0, aim = [1 1]\n",
      "epoch 17 has started, error = 0.8198861155923927, hitrate = 0.0, aim = [1 0]\n",
      "epoch 18 has started, error = 1.115858441135709, hitrate = 0.0, aim = [0 0]\n",
      "epoch 19 has started, error = 0.050727851551909675, hitrate = 1.0, aim = [0 0]\n",
      "epoch 20 has started, error = 0.016521906652975083, hitrate = 1.0, aim = [0 0]\n",
      "epoch 21 has started, error = 0.006396990487059835, hitrate = 1.0, aim = [0 0]\n",
      "epoch 22 has started, error = 0.16653028870727962, hitrate = 1.0, aim = [1 0]\n",
      "epoch 23 has started, error = 0.09684377996912036, hitrate = 1.0, aim = [0 0]\n",
      "epoch 24 has started, error = 0.007218718377697753, hitrate = 1.0, aim = [0 0]\n",
      "epoch 25 has started, error = 0.08387595196382411, hitrate = 1.0, aim = [1 0]\n",
      "epoch 26 has started, error = 0.021792163749224134, hitrate = 1.0, aim = [0 0]\n",
      "epoch 27 has started, error = 0.006310712755224503, hitrate = 1.0, aim = [0 0]\n",
      "epoch 28 has started, error = 0.7954957481727335, hitrate = 0.0, aim = [1 1]\n",
      "epoch 29 has started, error = 0.3890428644810218, hitrate = 0.0, aim = [1 1]\n",
      "epoch 30 has started, error = 0.7049760670370491, hitrate = 0.0, aim = [1 0]\n",
      "epoch 31 has started, error = 0.21661953679611862, hitrate = 1.0, aim = [1 1]\n",
      "epoch 32 has started, error = 0.6963450625655979, hitrate = 0.0, aim = [1 0]\n",
      "epoch 33 has started, error = 0.1267105780291762, hitrate = 1.0, aim = [1 0]\n",
      "epoch 34 has started, error = 0.059499152781441966, hitrate = 1.0, aim = [0 0]\n",
      "epoch 35 has started, error = 0.006958374820461973, hitrate = 1.0, aim = [0 0]\n",
      "epoch 36 has started, error = 0.04584621876408049, hitrate = 1.0, aim = [1 0]\n",
      "epoch 37 has started, error = 0.01773451561093065, hitrate = 1.0, aim = [1 0]\n",
      "epoch 38 has started, error = 0.6849025620772844, hitrate = 0.0, aim = [1 1]\n",
      "epoch 39 has started, error = 0.1562069569616949, hitrate = 1.0, aim = [1 0]\n",
      "epoch 40 has started, error = 0.03290584983374429, hitrate = 1.0, aim = [0 0]\n",
      "epoch 41 has started, error = 0.027620547259649172, hitrate = 1.0, aim = [1 0]\n",
      "epoch 42 has started, error = 0.018223047153169504, hitrate = 1.0, aim = [0 0]\n",
      "epoch 43 has started, error = 0.0042828214427531085, hitrate = 1.0, aim = [0 0]\n",
      "epoch 44 has started, error = 0.6106614252102972, hitrate = 0.0, aim = [1 1]\n",
      "epoch 45 has started, error = 0.18934153062546205, hitrate = 1.0, aim = [1 0]\n",
      "epoch 46 has started, error = 0.4461585758653625, hitrate = 0.0, aim = [1 1]\n",
      "epoch 47 has started, error = 1.1315803436102216, hitrate = 0.0, aim = [0 0]\n",
      "epoch 48 has started, error = 0.0012798340755356792, hitrate = 1.0, aim = [0 0]\n",
      "epoch 49 has started, error = 0.0017266357591039702, hitrate = 1.0, aim = [0 0]\n",
      "epoch 50 has started, error = 0.0009324097041854882, hitrate = 1.0, aim = [0 0]\n",
      "epoch 51 has started, error = 0.471282105154232, hitrate = 0.0, aim = [1 1]\n",
      "epoch 52 has started, error = 0.028124793194848504, hitrate = 1.0, aim = [1 1]\n",
      "epoch 53 has started, error = 0.29803399582368567, hitrate = 1.0, aim = [0 0]\n",
      "epoch 54 has started, error = 0.005778768571170022, hitrate = 1.0, aim = [0 0]\n",
      "epoch 55 has started, error = 0.26881923452805745, hitrate = 1.0, aim = [1 1]\n",
      "epoch 56 has started, error = 0.3393879222609782, hitrate = 0.0, aim = [1 0]\n",
      "epoch 57 has started, error = 0.004106141527542268, hitrate = 1.0, aim = [0 0]\n",
      "epoch 58 has started, error = 0.3492749091917028, hitrate = 0.0, aim = [1 1]\n",
      "epoch 59 has started, error = 0.22862115886495046, hitrate = 1.0, aim = [1 0]\n",
      "epoch 60 has started, error = 0.004872103932276319, hitrate = 1.0, aim = [0 0]\n",
      "epoch 61 has started, error = 0.03667657017379356, hitrate = 1.0, aim = [1 0]\n",
      "epoch 62 has started, error = 0.01875391404831158, hitrate = 1.0, aim = [0 0]\n",
      "epoch 63 has started, error = 0.006425721330431813, hitrate = 1.0, aim = [0 0]\n",
      "epoch 64 has started, error = 0.9622078131314019, hitrate = 0.0, aim = [1 1]\n",
      "epoch 65 has started, error = 0.11286945577494781, hitrate = 1.0, aim = [1 1]\n",
      "epoch 66 has started, error = 0.03406051065923295, hitrate = 1.0, aim = [0 0]\n",
      "epoch 67 has started, error = 0.028564370128018254, hitrate = 1.0, aim = [1 1]\n",
      "epoch 68 has started, error = 0.013680351541281511, hitrate = 1.0, aim = [1 1]\n",
      "epoch 69 has started, error = 0.02197795629522288, hitrate = 1.0, aim = [0 0]\n",
      "epoch 70 has started, error = 0.00966022891098285, hitrate = 1.0, aim = [1 1]\n",
      "epoch 71 has started, error = 0.26331220111444664, hitrate = 0.0, aim = [1 0]\n",
      "epoch 72 has started, error = 0.00840922243397978, hitrate = 1.0, aim = [1 0]\n",
      "epoch 73 has started, error = 0.00709144689428819, hitrate = 1.0, aim = [1 0]\n",
      "epoch 74 has started, error = 0.22206888175907302, hitrate = 1.0, aim = [1 1]\n",
      "epoch 75 has started, error = 0.20014574818629904, hitrate = 1.0, aim = [0 0]\n",
      "epoch 76 has started, error = 0.03321464009069022, hitrate = 1.0, aim = [1 1]\n",
      "epoch 77 has started, error = 0.024187370926363347, hitrate = 1.0, aim = [1 1]\n",
      "epoch 78 has started, error = 0.16282052407394249, hitrate = 1.0, aim = [1 0]\n",
      "epoch 79 has started, error = 0.082009694799163, hitrate = 1.0, aim = [1 1]\n",
      "epoch 80 has started, error = 0.06329841688856047, hitrate = 1.0, aim = [1 0]\n",
      "epoch 81 has started, error = 0.029520019822475426, hitrate = 1.0, aim = [1 0]\n",
      "epoch 82 has started, error = 0.06489416149760945, hitrate = 1.0, aim = [1 1]\n",
      "epoch 83 has started, error = 0.042325308939283414, hitrate = 1.0, aim = [1 0]\n",
      "epoch 84 has started, error = 0.0030388637121391057, hitrate = 1.0, aim = [0 0]\n",
      "epoch 85 has started, error = 0.041896200894013115, hitrate = 1.0, aim = [1 1]\n",
      "epoch 86 has started, error = 0.02241500918577086, hitrate = 1.0, aim = [1 1]\n",
      "epoch 87 has started, error = 0.046746529635994905, hitrate = 1.0, aim = [1 0]\n",
      "epoch 88 has started, error = 0.021800749747328454, hitrate = 1.0, aim = [1 0]\n",
      "epoch 89 has started, error = 0.03968880102329552, hitrate = 1.0, aim = [1 1]\n",
      "epoch 90 has started, error = 0.005402234324615698, hitrate = 1.0, aim = [0 0]\n",
      "epoch 91 has started, error = 0.002662085601662069, hitrate = 1.0, aim = [0 0]\n",
      "epoch 92 has started, error = 0.017393613035927225, hitrate = 1.0, aim = [1 1]\n",
      "epoch 93 has started, error = 0.013539986602162291, hitrate = 1.0, aim = [1 1]\n",
      "epoch 94 has started, error = 0.08346206920109966, hitrate = 1.0, aim = [1 0]\n",
      "epoch 95 has started, error = 0.03757648360351778, hitrate = 1.0, aim = [1 1]\n",
      "epoch 96 has started, error = 0.020671144879461745, hitrate = 1.0, aim = [1 0]\n",
      "epoch 97 has started, error = 0.025764385452331912, hitrate = 1.0, aim = [1 1]\n",
      "epoch 98 has started, error = 0.005560583411244368, hitrate = 1.0, aim = [0 0]\n",
      "epoch 99 has started, error = 0.0050823083468666454, hitrate = 1.0, aim = [0 0]\n",
      "epoch 100 has started, error = 0.004242386401780146, hitrate = 1.0, aim = [0 0]\n",
      "epoch 101 has started, error = 0.015603398371443337, hitrate = 1.0, aim = [1 1]\n",
      "epoch 102 has started, error = 0.015559391568676455, hitrate = 1.0, aim = [1 1]\n",
      "epoch 103 has started, error = 0.008608990816897534, hitrate = 1.0, aim = [1 1]\n",
      "epoch 104 has started, error = 0.06479768196623777, hitrate = 1.0, aim = [1 0]\n",
      "epoch 105 has started, error = 0.013454640538877866, hitrate = 1.0, aim = [1 0]\n",
      "epoch 106 has started, error = 0.010576564129334916, hitrate = 1.0, aim = [1 0]\n",
      "epoch 107 has started, error = 0.007522049420811661, hitrate = 1.0, aim = [0 0]\n",
      "epoch 108 has started, error = 0.011514965442600673, hitrate = 1.0, aim = [0 0]\n",
      "epoch 109 has started, error = 0.0012807899858393753, hitrate = 1.0, aim = [0 0]\n",
      "epoch 110 has started, error = 0.013089530018044842, hitrate = 1.0, aim = [1 0]\n",
      "epoch 111 has started, error = 0.0024760749436824577, hitrate = 1.0, aim = [0 0]\n",
      "epoch 112 has started, error = 0.0013433126637096315, hitrate = 1.0, aim = [0 0]\n",
      "epoch 113 has started, error = 0.02247677082993566, hitrate = 1.0, aim = [1 0]\n",
      "epoch 114 has started, error = 0.00296252835049362, hitrate = 1.0, aim = [0 0]\n",
      "epoch 115 has started, error = 0.011693915020718497, hitrate = 1.0, aim = [0 0]\n",
      "epoch 116 has started, error = 0.04397659513160406, hitrate = 1.0, aim = [1 1]\n",
      "epoch 117 has started, error = 0.011536783841517071, hitrate = 1.0, aim = [1 0]\n",
      "epoch 118 has started, error = 0.01943448883798086, hitrate = 1.0, aim = [1 1]\n",
      "epoch 119 has started, error = 0.003241234857126277, hitrate = 1.0, aim = [0 0]\n",
      "epoch 120 has started, error = 0.0016536757829112114, hitrate = 1.0, aim = [0 0]\n",
      "epoch 121 has started, error = 0.016827869158065438, hitrate = 1.0, aim = [1 0]\n",
      "epoch 122 has started, error = 0.011756281544504645, hitrate = 1.0, aim = [1 0]\n",
      "epoch 123 has started, error = 0.01966535961126015, hitrate = 1.0, aim = [1 1]\n",
      "epoch 124 has started, error = 0.004289652740037708, hitrate = 1.0, aim = [0 0]\n",
      "epoch 125 has started, error = 0.7086392968425906, hitrate = 0.0, aim = [1 1]\n",
      "epoch 126 has started, error = 0.026432731185556148, hitrate = 1.0, aim = [0 0]\n",
      "epoch 127 has started, error = 0.04349713231107947, hitrate = 1.0, aim = [1 1]\n",
      "epoch 128 has started, error = 0.0004294117390103936, hitrate = 1.0, aim = [1 1]\n",
      "epoch 129 has started, error = 0.025534206374082574, hitrate = 1.0, aim = [0 0]\n",
      "epoch 130 has started, error = 0.015349450913755202, hitrate = 1.0, aim = [1 1]\n",
      "epoch 131 has started, error = 0.0014454315787556398, hitrate = 1.0, aim = [1 1]\n",
      "epoch 132 has started, error = 0.02334956322104145, hitrate = 1.0, aim = [0 0]\n",
      "epoch 133 has started, error = 0.026196140029272813, hitrate = 1.0, aim = [0 0]\n",
      "epoch 134 has started, error = 0.012639371602443435, hitrate = 1.0, aim = [0 0]\n",
      "epoch 135 has started, error = 0.004335058084937893, hitrate = 1.0, aim = [1 1]\n",
      "epoch 136 has started, error = 0.0009185150925981147, hitrate = 1.0, aim = [1 1]\n",
      "epoch 137 has started, error = 0.0027373015465987313, hitrate = 1.0, aim = [1 1]\n",
      "epoch 138 has started, error = 0.18339408503511784, hitrate = 1.0, aim = [1 0]\n",
      "epoch 139 has started, error = 0.007692188659458803, hitrate = 1.0, aim = [1 0]\n",
      "epoch 140 has started, error = 0.002602953671619582, hitrate = 1.0, aim = [0 0]\n",
      "epoch 141 has started, error = 0.009435760892902552, hitrate = 1.0, aim = [1 0]\n",
      "epoch 142 has started, error = 0.007348970194806453, hitrate = 1.0, aim = [1 0]\n",
      "epoch 143 has started, error = 0.0030085094993146573, hitrate = 1.0, aim = [0 0]\n",
      "epoch 144 has started, error = 0.0010984234565934404, hitrate = 1.0, aim = [0 0]\n",
      "epoch 145 has started, error = 0.0012011096363272482, hitrate = 1.0, aim = [0 0]\n",
      "epoch 146 has started, error = 0.001123943936340858, hitrate = 1.0, aim = [0 0]\n",
      "epoch 147 has started, error = 0.0074153606898704465, hitrate = 1.0, aim = [1 0]\n",
      "epoch 148 has started, error = 0.0025187013607292493, hitrate = 1.0, aim = [0 0]\n",
      "epoch 149 has started, error = 0.024408878488352145, hitrate = 1.0, aim = [1 1]\n",
      "epoch 150 has started, error = 0.021813728614898657, hitrate = 1.0, aim = [0 0]\n",
      "ended by epochs\n"
     ]
    }
   ],
   "source": [
    "elman.fit(x_train, y_train, 0.5, 150, max_error=None, min_hitrate=None)"
   ]
  },
  {
   "cell_type": "code",
   "execution_count": 11,
   "metadata": {},
   "outputs": [
    {
     "data": {
      "text/plain": [
       "(0.16528702963827951, 0.6666666666666666)"
      ]
     },
     "execution_count": 11,
     "metadata": {},
     "output_type": "execute_result"
    }
   ],
   "source": [
    "elman.get_mse_hitrate(x_test, y_test)"
   ]
  },
  {
   "cell_type": "code",
   "execution_count": 9,
   "metadata": {},
   "outputs": [],
   "source": [
    "net = nn.Net(len(x_train[0]), arch)"
   ]
  },
  {
   "cell_type": "code",
   "execution_count": 17,
   "metadata": {},
   "outputs": [],
   "source": [
    "net.train_speed_decrease_func = nn.train_speed_dont_decrease_func\n",
    "net.train_size_epoch = 1 / len(x_train)"
   ]
  },
  {
   "cell_type": "code",
   "execution_count": null,
   "metadata": {},
   "outputs": [],
   "source": [
    "net.fit(x_train, y_train, 0.5, 150, max_error=None, min_hitrate=None)"
   ]
  },
  {
   "cell_type": "code",
   "execution_count": 9,
   "metadata": {},
   "outputs": [],
   "source": [
    "round = lambda x : [np.round(x[i]) for i in range(len(x))]\n",
    "\n",
    "def predict_by_photo(model : nn.Net, x_convert, x_show, y_test, y_values):\n",
    "    rows = int(np.ceil(len(x_train) / 4))\n",
    "    plt.figure(figsize=(15, rows * 4))\n",
    "    for i in range(len(x_convert)):\n",
    "        plt.subplot(rows, 4, 1  + i)\n",
    "        plt.imshow(ImageOps.invert(Image.fromarray(x_show[i])))\n",
    "\n",
    "        title = ''\n",
    "        try:\n",
    "            index = y_values.index(round(model.predict(x_convert[i])))\n",
    "            pr = pathes[index][:len(pathes[index]) - 1]\n",
    "            index = y_values.index(y_test[i])\n",
    "            exp = pathes[index][:len(pathes[index]) - 1]\n",
    "            title = f'pr: {pr}; exp = {exp}'\n",
    "            #title = str(model.predict(x[i]))\n",
    "        except:\n",
    "            title = '???'\n",
    "            \n",
    "        plt.title(title)\n",
    "        "
   ]
  },
  {
   "cell_type": "code",
   "execution_count": 11,
   "metadata": {},
   "outputs": [
    {
     "ename": "NameError",
     "evalue": "name 'net' is not defined",
     "output_type": "error",
     "traceback": [
      "\u001b[1;31m---------------------------------------------------------------------------\u001b[0m",
      "\u001b[1;31mNameError\u001b[0m                                 Traceback (most recent call last)",
      "Cell \u001b[1;32mIn [11], line 1\u001b[0m\n\u001b[1;32m----> 1\u001b[0m mse, hitrate \u001b[39m=\u001b[39m net\u001b[39m.\u001b[39mget_mse_hitrate(x_test, y_test)\n\u001b[0;32m      2\u001b[0m \u001b[39mprint\u001b[39m(\u001b[39mf\u001b[39m\u001b[39m'\u001b[39m\u001b[39mmse = \u001b[39m\u001b[39m{\u001b[39;00mmse\u001b[39m}\u001b[39;00m\u001b[39m, hitrate = \u001b[39m\u001b[39m{\u001b[39;00mhitrate\u001b[39m}\u001b[39;00m\u001b[39m'\u001b[39m)\n\u001b[0;32m      3\u001b[0m predict_by_photo(net, x_test, x_test_full, y_test, marks)\n",
      "\u001b[1;31mNameError\u001b[0m: name 'net' is not defined"
     ]
    }
   ],
   "source": [
    "mse, hitrate = net.get_mse_hitrate(x_test, y_test)\n",
    "print(f'mse = {mse}, hitrate = {hitrate}')\n",
    "predict_by_photo(net, x_test, x_test_full, y_test, marks)"
   ]
  },
  {
   "cell_type": "code",
   "execution_count": 10,
   "metadata": {},
   "outputs": [],
   "source": [
    "netCG = nn.NetGC(len(x_train[0]), arch)"
   ]
  },
  {
   "cell_type": "code",
   "execution_count": 11,
   "metadata": {},
   "outputs": [],
   "source": [
    "netCG.train_speed_decrease_func = nn.train_speed_dont_decrease_func"
   ]
  },
  {
   "cell_type": "code",
   "execution_count": 12,
   "metadata": {},
   "outputs": [
    {
     "name": "stdout",
     "output_type": "stream",
     "text": [
      "epoch 1 has started, error = 0.33615047651524516, hitrate = 0.012152777777777778\n",
      "epoch 2 has started, error = 0.09658514890140156, hitrate = 0.03993055555555556\n",
      "fitted by error\n"
     ]
    }
   ],
   "source": [
    "netCG.fit(x_train, y_train, 0.9, 1000, max_error=None, min_hitrate=0.9)"
   ]
  },
  {
   "cell_type": "code",
   "execution_count": 13,
   "metadata": {},
   "outputs": [
    {
     "name": "stdout",
     "output_type": "stream",
     "text": [
      "mse = 0.07166048640083447, hitrate = 0.8333333333333334\n"
     ]
    },
    {
     "data": {
      "image/png": "[encoded data removed]",
      "text/plain": [
       "<Figure size 1500x2400 with 6 Axes>"
      ]
     },
     "metadata": {},
     "output_type": "display_data"
    }
   ],
   "source": [
    "mse, hitrate = netCG.get_mse_hitrate(x_test, y_test)\n",
    "print(f'mse = {mse}, hitrate = {hitrate}')\n",
    "predict_by_photo(netCG, x_test, x_test_full, y_test, marks)"
   ]
  }
 ],
 "metadata": {
  "kernelspec": {
   "display_name": "Python 3",
   "language": "python",
   "name": "python3"
  },
  "language_info": {
   "codemirror_mode": {
    "name": "ipython",
    "version": 3
   },
   "file_extension": ".py",
   "mimetype": "text/x-python",
   "name": "python",
   "nbconvert_exporter": "python",
   "pygments_lexer": "ipython3",
   "version": "3.10.8"
  },
  "orig_nbformat": 4,
  "vscode": {
   "interpreter": {
    "hash": "0fb8b22959be10dcf07cc8fabb94544c51c9b466441eac771aead971dd5abb49"
   }
  }
 },
 "nbformat": 4,
 "nbformat_minor": 2
}
